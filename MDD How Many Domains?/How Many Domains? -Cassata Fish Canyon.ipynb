{
 "cells": [
  {
   "cell_type": "code",
   "execution_count": 1,
   "metadata": {},
   "outputs": [
    {
     "name": "stdout",
     "output_type": "stream",
     "text": [
      "Couldn't import dot_parser, loading of dot files will not be possible.\n"
     ]
    }
   ],
   "source": [
    "from __future__ import division \n",
    "import pymc3 as pm ;import matplotlib.pyplot as plt\n",
    "import seaborn as sns ; from theano import tensor as tt\n",
    "import numpy as np ; import scipy as sp ; import pandas as pd; import os \n",
    "import theano as T; from scipy.stats import gamma\n",
    "plt.style.use(\"classic\")"
   ]
  },
  {
   "cell_type": "code",
   "execution_count": 2,
   "metadata": {},
   "outputs": [],
   "source": [
    "from numpy import pi, log\n",
    "def FechKal(ar39, time):\n",
    "    da2 = []\n",
    "    # Start by calculating the fractional release\n",
    "    t = np.cumsum(ar39)\n",
    "    t_c = np.cumsum(time)\n",
    "    diff_t = t_c[1:-1] - t_c[0:-2]\n",
    "    f = t/t[-1]\n",
    "    da2_a = np.zeros([len(ar39)])\n",
    "    da2_a[0] = ((f[0]**2 - 0**2))*pi/(36*(t_c[0]))\n",
    "    \n",
    "    # All other steps for equation 1 \n",
    "    da2_a[1:-1] = ((f[1:-1]**2 - (f[0:-2])**2)*pi/(36*(diff_t)))\n",
    "    \n",
    "    # Equation 2\n",
    "    da2_b = np.zeros([len(ar39)])\n",
    "    dif_f = f[1:-1] - f[0:-2]\n",
    "    da2_b[1:-1] = (1/((pi**2)*diff_t))*(-(pi*pi/3)*dif_f -\n",
    "                                             (2*pi)*(np.sqrt(1 -(pi/3)*f[1:-1]) - np.sqrt(1 - (pi/3)*f[0:-2])))\n",
    "    \n",
    "    # Equation 3\n",
    "    da2_c = np.zeros([len(ar39)])\n",
    "    da2_c[1:-1] = (1/(pi*pi*diff_t)*log((1-f[0:-2])/(1 - f[1:-1])))\n",
    "    \n",
    "    # Need to decide which to use \n",
    "    # > 0 and <= 0.1 - a\n",
    "    # > 0.1 and <= 0.9 - b\n",
    "    # >0.9 and <=1 - c\n",
    "    a = da2_a[(da2_a < 0.1) & (da2_a >0)]\n",
    "    b = da2_b[(da2_b >= 0.1) & (da2_b <= 0.9)]\n",
    "    c = da2_c[(da2_c > 0.9) & (da2_c <= 1)]\n",
    "    \n",
    "    # put all the values into an array \n",
    "    \n",
    "    da2.extend(a)\n",
    "    da2.extend(b)\n",
    "    da2.extend(c)\n",
    "    \n",
    "    return da2"
   ]
  },
  {
   "cell_type": "code",
   "execution_count": 3,
   "metadata": {},
   "outputs": [],
   "source": [
    "# Import Cassata Fish Canyon\n",
    "\n",
    "'''\n",
    "Comparison with Frequentist Misfit statistical Method \n",
    "Model Test against known \n",
    "2-Domain model \n",
    "d1 = 0.75, d2 = 0.25\n",
    "'''\n",
    "cwd = os.getcwd()\n",
    "os.chdir(\"/Users/jackcarter/Documents/Data_Mixtures\")\n",
    "df2 = pd.read_csv(\"Cassata_FCs2.csv\", engine = 'python')\n",
    "q = df2.as_matrix(columns = None)\n"
   ]
  },
  {
   "cell_type": "code",
   "execution_count": 4,
   "metadata": {},
   "outputs": [],
   "source": [
    "temp  = df2['Temp'].values\n",
    "time = df2['Time'].values\n",
    "ar39 = df2['Ar39'].values\n",
    "dr2 = FechKal(ar39, time)\n",
    "tplot = 1e4/(temp + 273.15)"
   ]
  },
  {
   "cell_type": "code",
   "execution_count": 5,
   "metadata": {},
   "outputs": [],
   "source": [
    "# Fractional Release\n",
    "def frel(x): \n",
    "    g = np.cumsum(x)\n",
    "    y = g/(g.max())\n",
    "    return y"
   ]
  },
  {
   "cell_type": "code",
   "execution_count": 6,
   "metadata": {},
   "outputs": [
    {
     "data": {
      "text/plain": [
       "[<matplotlib.lines.Line2D at 0x1c264f6fd0>]"
      ]
     },
     "execution_count": 6,
     "metadata": {},
     "output_type": "execute_result"
    },
    {
     "data": {
      "image/png": "[encoded data removed]",
      "text/plain": [
       "<Figure size 432x288 with 1 Axes>"
      ]
     },
     "metadata": {
      "needs_background": "light"
     },
     "output_type": "display_data"
    }
   ],
   "source": [
    "plt.plot(temp, frel(ar39), 'ok-')"
   ]
  },
  {
   "cell_type": "code",
   "execution_count": 14,
   "metadata": {},
   "outputs": [
    {
     "data": {
      "text/plain": [
       "[<matplotlib.lines.Line2D at 0x1c289e0390>]"
      ]
     },
     "execution_count": 14,
     "metadata": {},
     "output_type": "execute_result"
    },
    {
     "data": {
      "image/png": "[encoded data removed]",
      "text/plain": [
       "<Figure size 432x288 with 1 Axes>"
      ]
     },
     "metadata": {
      "needs_background": "light"
     },
     "output_type": "display_data"
    }
   ],
   "source": [
    "plt.plot(tplot[:len(dr2)][:-5], np.log(dr2[:-5]), 'oc')"
   ]
  },
  {
   "cell_type": "code",
   "execution_count": null,
   "metadata": {},
   "outputs": [],
   "source": []
  },
  {
   "cell_type": "code",
   "execution_count": null,
   "metadata": {},
   "outputs": [],
   "source": []
  }
 ],
 "metadata": {
  "kernelspec": {
   "display_name": "Python 3",
   "language": "python",
   "name": "python3"
  },
  "language_info": {
   "codemirror_mode": {
    "name": "ipython",
    "version": 3
   },
   "file_extension": ".py",
   "mimetype": "text/x-python",
   "name": "python",
   "nbconvert_exporter": "python",
   "pygments_lexer": "ipython3",
   "version": "3.6.8"
  }
 },
 "nbformat": 4,
 "nbformat_minor": 2
}
