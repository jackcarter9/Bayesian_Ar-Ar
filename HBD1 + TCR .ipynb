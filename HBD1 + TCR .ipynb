{
 "cells": [
  {
   "cell_type": "code",
   "execution_count": 1,
   "metadata": {},
   "outputs": [
    {
     "name": "stdout",
     "output_type": "stream",
     "text": [
      "Couldn't import dot_parser, loading of dot files will not be possible.\n"
     ]
    }
   ],
   "source": [
    "import numpy as np\n",
    "import matplotlib.pyplot as plt\n",
    "import pymc3 as pm\n",
    "from pymc3.distributions import Interpolated\n",
    "from scipy import stats\n",
    "import pandas as pd \n",
    "import os \n",
    "#import theano.tensor as tt\n",
    "# Step 1: Import Data \n",
    "# Data in this order \n",
    "# Colums of data\n",
    "# Age, Age Error, 40Ar, 39Ar, 37Ar, 36Ar, Temperature\n",
    "cwd = os.chdir(\"/Users/jackcarter/Documents/Data_Mixtures\")\n",
    "df = pd.read_csv(\"mix_hb_tcr.csv\", engine = 'python')\n",
    "# DATA\n",
    "age = df.iloc[:,0:1]\n",
    "age_err = df.iloc[:,1:2]\n",
    "a40 = df.iloc[:,2:3]\n",
    "a39 = df.iloc[:,3:4]\n",
    "a37 = df.iloc[:,4:5]\n",
    "a36 = df.iloc[:,5:6]\n",
    "temp = df.iloc[:,6:7]\n",
    "age = age.values\n",
    "age_err = age_err.values\n",
    "a40 = a40.values\n",
    "a39 = a39.values\n",
    "a37 = a37.values\n",
    "a36 = a36.values\n",
    "temp = temp.values\n",
    "age = age[age >=0]\n",
    "age_err = age_err[age_err !=0]\n",
    "a40 = a40[a40 >= 0]\n",
    "a39 = a39[a39 >= 0]\n",
    "a37 = a37[a37 >= 0]\n",
    "a36 = a36[a36 >= 0]\n",
    "temp = temp[temp >= 0]\n",
    "time= 300*np.ones(len(temp))\n",
    "data = age"
   ]
  },
  {
   "cell_type": "code",
   "execution_count": 2,
   "metadata": {},
   "outputs": [],
   "source": [
    "import theano \n",
    "from theano import shared, tensor as tt\n",
    "ar39_err = 0.05*a39\n",
    "# Cumulative sum error \n",
    "# to cast as theano shared variable then use in model \n",
    "def cumul_err(X, Y):\n",
    "    zz = np.cumsum(Y)\n",
    "    qq = zz/zz.max()\n",
    "    \n",
    "    err = np.sqrt(np.cumsum(X**2))\n",
    "    z1 = err.max()\n",
    "    \n",
    "    y1 = np.sqrt((err/zz)**2 + (err[-1]/zz.max())**2)\n",
    "    return y1"
   ]
  },
  {
   "cell_type": "code",
   "execution_count": 3,
   "metadata": {},
   "outputs": [],
   "source": [
    "def fracrelx(Ea, D0, a, temp, time): \n",
    "    R = 8.314e-3\n",
    "    D0t = (D0/(a**2))*np.exp(-Ea/(R*temp))*time\n",
    "    \n",
    "    q = (6./(np.pi**(3/2)))*np.sqrt((np.pi**2)*D0t)\n",
    "    \n",
    "    q1 = (6./(np.pi**(1.5)))*np.sqrt((np.pi**2)*D0t)\n",
    "    \n",
    "    q2 = (6./(np.pi**(3/2)))*np.sqrt((np.pi**2)*D0t)\\\n",
    "    - (3./(np.pi**2)) *((np.pi**2)* D0t)\n",
    "    \n",
    "    q3 = 1 - (6./(np.pi**2)) *np.exp(-(np.pi**2)*D0t)\n",
    "     \n",
    "    \n",
    "    \n",
    "    Q = tt.switch(q <= 0.9, q2, q3)\n",
    "    T = tt.switch(q < 0.1, q, Q)\n",
    "    \n",
    "    return T"
   ]
  },
  {
   "cell_type": "code",
   "execution_count": 4,
   "metadata": {},
   "outputs": [],
   "source": [
    "def Increment(ea, d0, a, temp, t):\n",
    "    R = 8.314e-3\n",
    "    \n",
    "    D0t = (d0/(a**2))*np.exp(-ea/(R*temp))*t\n",
    "    \n",
    "    q = (6./(np.pi**(3/2)))*np.sqrt((np.pi**2)*D0t)\n",
    "    \n",
    "    aa1 = np.sqrt(np.pi) * R * temp**2\n",
    "    bb1 = d0*np.exp(-ea/(R*temp))*t\n",
    "    z1 = (3*ea *np.sqrt(bb1/a**2))/aa1\n",
    "    \n",
    "\n",
    "    aa2 = np.sqrt(np.pi) * R *temp**2\n",
    "    bb2 = d0*np.exp(-ea/(R*temp))*t\n",
    "    z2 = (3*ea*(np.sqrt(bb2/a**2) - np.sqrt(np.pi)*bb2/a**2))/aa2\n",
    "      \n",
    "    \n",
    "    aa3 = a**2 * R * temp**2\n",
    "    bb3 = d0*np.exp(-ea/(R*temp))*t\n",
    "    z3 = 6 * d0 * ea * t * np.exp((-np.pi**2 * bb3/a**2) - ea/(R*temp))/aa3\n",
    "\n",
    "    \n",
    "    Q = tt.switch(q <= 0.9,\n",
    "                z2,\n",
    "                 z3)\n",
    "    \n",
    "    T = tt.switch(q < 0.1, z1, Q)\n",
    "    \n",
    "    \n",
    "    return T"
   ]
  },
  {
   "cell_type": "code",
   "execution_count": 5,
   "metadata": {},
   "outputs": [],
   "source": [
    "def fracrel(a):\n",
    "    y = np.cumsum(a)\n",
    "    z = y/y.max()\n",
    "    return z\n",
    "data2 = fracrel(a39)"
   ]
  },
  {
   "cell_type": "markdown",
   "metadata": {},
   "source": [
    "# Age Spectra and Fractional Release"
   ]
  },
  {
   "cell_type": "code",
   "execution_count": 6,
   "metadata": {},
   "outputs": [
    {
     "data": {
      "image/png": "[encoded data removed]",
      "text/plain": [
       "<Figure size 504x288 with 2 Axes>"
      ]
     },
     "metadata": {},
     "output_type": "display_data"
    }
   ],
   "source": [
    "import seaborn as sns\n",
    "sns.set_style('ticks')\n",
    "fig, ax = plt.subplots(1,2, figsize = (7,4))\n",
    "ax[0].fill_between(data2, data - age_err, data + age_err, \n",
    "                  step = 'pre', facecolor = 'grey', alpha = 0.8, \n",
    "                  edgecolor = 'k')\n",
    "ax[0].set_xlabel('Cumulative $^{39}Ar$ released')\n",
    "ax[0].set_ylabel('Age (Ma)')\n",
    "ax[0].set_xlim(0, 1)\n",
    "ax[1].plot(temp, data2, lw = 3, color= 'k')\n",
    "ax[1].set_ylabel('Cumulative $^{39}Ar$ released')\n",
    "ax[1].set_xlabel('Temperature ($^{o}C$)')\n",
    "plt.tight_layout()"
   ]
  },
  {
   "cell_type": "code",
   "execution_count": 7,
   "metadata": {},
   "outputs": [],
   "source": [
    "data = age\n",
    "tempk = temp + 273.15\n",
    "time \n",
    "N = data.shape[0]\n",
    "err_age = shared(age_err/2)\n",
    "\n",
    "err_frel = cumul_err(ar39_err, a39)\n",
    "f_err = shared(err_frel)"
   ]
  },
  {
   "cell_type": "code",
   "execution_count": 8,
   "metadata": {},
   "outputs": [],
   "source": [
    "marty = pm.Model() \n",
    "with marty: \n",
    "    \n",
    "    \n",
    "    # Mixing/Volume Coeffs\n",
    "    phi = pm.Dirichlet('phi', a = np.array([.8, .2]), \n",
    "                      testval  =[0.5,0.5], shape = 2)\n",
    "    # ensure all clusters have some points\n",
    "    p_min_potential = pm.Potential('p_min_potential',  \n",
    "                                   tt.switch(tt.min(phi) < .001, -np.inf, 0))\n",
    "    # Order\n",
    "    #phi_switch = pm.Potential('phi_switch', \n",
    "    #                        tt.switch(phi[0] - phi[1] < 0, - np.inf, 0))\n",
    "\n",
    "    # Diffusion Kinetics \n",
    "    ea1 = pm.Normal('ea1', mu = 220, sd = 4, testval = 225)\n",
    "    ea2 = pm.Normal('ea2', mu = 196, sd = 6, testval =  195)\n",
    "    d01 = pm.Lognormal('d01', mu = 0.004, sd = 0.2)\n",
    "    d02 = pm.Lognormal('d02', mu = 0.01, sd = 0.2)\n",
    "    \n",
    "    a1 = pm.Uniform('a1', lower= 0.001, upper = 0.0032)\n",
    "    a2 = pm.Uniform('a2', lower= 0.001, upper = 0.0032)\n",
    "\n",
    "    \n",
    "    \n",
    "    \n",
    "    # Activation Energy Bounds\n",
    "    #\n",
    "    ea_bound = pm.Potential('ea_bound', \n",
    "                           tt.switch(ea1 < 210, -np.inf, 0)+ \n",
    "                           tt.switch(ea1 > 230, -np.inf, 0)) \n",
    "    #                       tt.switch(ea2 < 190, -np.inf, 0)+\n",
    "    #                       tt.switch(ea2 > 200, -np.inf, 0))\n",
    "    \n",
    "    # Error\n",
    "    #err1 = pm.HalfNormal('err1', sd = 0.08, testval = 0.002, \n",
    "    #                    shape = N)\n",
    "    \n",
    "    \n",
    "  "
   ]
  },
  {
   "cell_type": "code",
   "execution_count": 9,
   "metadata": {},
   "outputs": [],
   "source": [
    "with marty: \n",
    "    # Model 1\n",
    "    m1 = phi[0]\n",
    "    m2 = phi[1]\n",
    "    X = fracrelx(ea1, d01, a1, tempk, time)\n",
    "    Y = fracrelx(ea2, d02, a2, tempk, time)\n",
    "    \n",
    "    model1 = m1*X + m2*Y\n",
    "    \n",
    "    #Monotonicity\n",
    "    \n",
    "#########################\n",
    "    for i in range(len(data) - 1): \n",
    "        Frel_bound = pm.Potential(f'mu_f_bound{i}', \n",
    "                                 tt.switch(model1[i +1] - model1[i] < 0, \n",
    "                                          -np.inf, 0)) \n",
    "        \n",
    "    mu_f_bound = pm.Potential('mu_f_bound', tt.switch(model1 < 0, -np.inf, 0))\n",
    "        \n",
    "        \n",
    "###############################\n",
    "        \n",
    "    f_err = pm.HalfNormal('f_err', \n",
    "                          sd = 0.005,\n",
    "                          testval = 0.002, shape = N)    \n",
    "    obs1 = pm.Normal('obs1', mu = model1, sd = f_err, \n",
    "                    observed = data2)"
   ]
  },
  {
   "cell_type": "code",
   "execution_count": null,
   "metadata": {},
   "outputs": [],
   "source": [
    "with marty: \n",
    "    # Model 2\n",
    "    A = Increment(ea1, d01, a1, tempk, time)\n",
    "    B = Increment(ea2, d02, a2, tempk, time)\n",
    "\n",
    "    age1 = pm.Normal('age1', mu = 28.72, sd = 0.5)\n",
    "    age2 = pm.Normal('age2', mu = 24.59, sd = 0.5)\n",
    "    \n",
    "       # Ages \n",
    "    #age = pm.HalfNormal('age', sd = 1000, \n",
    "    #                shape = 2)\n",
    "    #age1 = age[0]\n",
    "    #age2 = age[1]\n",
    "    \n",
    "    model2 = ((m1*A*age1)/(m1*A + m2*B)) + ((m2*B*age2)/(m2*B + m1*A))\n",
    "    \n",
    "    "
   ]
  },
  {
   "cell_type": "code",
   "execution_count": null,
   "metadata": {},
   "outputs": [],
   "source": [
    "with marty: \n",
    "    obs2 = pm.Normal('obs2', mu = model2, sd = err_age, \n",
    "                     observed = data) "
   ]
  },
  {
   "cell_type": "code",
   "execution_count": null,
   "metadata": {},
   "outputs": [],
   "source": [
    "#for RV in marty.basic_RVs: \n",
    "#    print(marty.name, marty.logp(marty.test_point))"
   ]
  },
  {
   "cell_type": "code",
   "execution_count": null,
   "metadata": {},
   "outputs": [],
   "source": [
    "with marty: \n",
    "    \n",
    "    step1 = pm.NUTS([age1, age2], target_accept = 0.9)\n",
    "    step2 = pm.Metropolis([d01, d02, ea1, ea2,\n",
    "                           a1, a2,phi, f_err])\n",
    "    \n",
    "    trace = pm.sample(draws = 50000, tune = 50000, \n",
    "                     step = pm.Metropolis())"
   ]
  },
  {
   "cell_type": "code",
   "execution_count": null,
   "metadata": {},
   "outputs": [],
   "source": [
    "#pm.traceplot(trace[]); "
   ]
  },
  {
   "cell_type": "code",
   "execution_count": null,
   "metadata": {},
   "outputs": [],
   "source": [
    "with marty: \n",
    "    ppc = pm.sample_ppc(trace[-2000:], 200)"
   ]
  },
  {
   "cell_type": "code",
   "execution_count": null,
   "metadata": {},
   "outputs": [],
   "source": [
    "# 95% Credible Interval \n",
    "\n",
    "low1, high1 = np.percentile(ppc['obs1'], [2.5, 97.5], axis = 0)\n",
    "low2, high2 = np.percentile(ppc['obs2'], [2.5, 97.5], axis = 0)\n"
   ]
  },
  {
   "cell_type": "code",
   "execution_count": null,
   "metadata": {},
   "outputs": [],
   "source": [
    "# Mean Predictive Models\n",
    "Z1 = ppc['obs1'].mean(axis = 0)\n",
    "Z2 = ppc['obs2'].mean(axis = 0)"
   ]
  },
  {
   "cell_type": "code",
   "execution_count": null,
   "metadata": {},
   "outputs": [],
   "source": [
    "# Plotting Parameters Fonts\n",
    "\n",
    "font = {'family' : 'Arial',\n",
    "        'weight' : 'normal',\n",
    "        'size'   : 8.5}\n",
    "\n",
    "plt.rc('font', **font)\n",
    "sns.set_style('ticks')"
   ]
  },
  {
   "cell_type": "code",
   "execution_count": null,
   "metadata": {},
   "outputs": [],
   "source": [
    "# Fractional release plot\n",
    "plt.figure(figsize = (5,5))\n",
    "plt.fill_between(temp, low1, high1, alpha = 0.4, \n",
    "                color = 'grey', \n",
    "                label = '95% Credible Interval')\n",
    "plt.plot(temp, Z1, 'c', lw = 2, \n",
    "        label = 'Mean Posterior \\n Predicitive Model')\n",
    "\n",
    "plt.plot(temp, data2, lw = 2, color= 'k', \n",
    "        label = 'Data')\n",
    "plt.ylabel('Cumulative $^{39}$Ar released (%)')\n",
    "plt.xlabel('Temperautre $^{o}$C)')\n",
    "plt.legend(loc = 'best')\n",
    "plt.tight_layout()"
   ]
  },
  {
   "cell_type": "code",
   "execution_count": null,
   "metadata": {},
   "outputs": [],
   "source": [
    "# Age Spectra plot\n",
    "plt.figure(figsize = (5,5))\n",
    "plt.fill_between(Z1, low2, high2, alpha = 0.4, \n",
    "                color = 'grey', \n",
    "                label = '95% Credible Interval')\n",
    "plt.plot(Z1, Z2, 'c', \n",
    "        lw = 2, \n",
    "        label = 'Mean Posterior \\n Predicitive Model')\n",
    "plt.fill_between(data2, data - age_err, data + age_err, \n",
    "                step ='pre', \n",
    "                facecolor = 'grey', \n",
    "                alpha = 0.5, \n",
    "                edgecolor = 'k', \n",
    "                label = 'Data')\n",
    "\n",
    "plt.xlabel('Cumulative $^{39}$Ar released (%)')\n",
    "plt.ylabel('Age (Ma)')\n",
    "plt.legend(loc = 'best')\n",
    "plt.tight_layout()"
   ]
  },
  {
   "cell_type": "code",
   "execution_count": 34,
   "metadata": {},
   "outputs": [
    {
     "data": {
      "image/png": "[encoded data removed]",
      "text/plain": [
       "<Figure size 511.2x270 with 2 Axes>"
      ]
     },
     "metadata": {},
     "output_type": "display_data"
    }
   ],
   "source": [
    "# Joint Summary Plots\n",
    "\n",
    "# AGE SPECTRA\n",
    "fig, ax = plt.subplots(1,2, figsize = (7.1, 3.75))\n",
    "\n",
    "ax[0].fill_between(Z1, low2, high2, alpha = 0.4, \n",
    "                color = 'grey', \n",
    "                label = '95% Credible Interval')\n",
    "ax[0].plot(Z1, Z2, 'c', \n",
    "        lw = 2, \n",
    "        label = 'Mean Posterior \\n Predicitive Model')\n",
    "ax[0].fill_between(data2, data - age_err, data + age_err, \n",
    "                step ='pre', \n",
    "                facecolor = 'grey', \n",
    "                alpha = 0.5, \n",
    "                edgecolor = 'k', \n",
    "                label = 'Data')\n",
    "\n",
    "ax[0].set_xlabel('Cumulative $^{39}$Ar released (%)')\n",
    "ax[0].set_ylabel('Age (Ma)')\n",
    "ax[0].legend(loc = 'best')\n",
    "\n",
    "\n",
    "\n",
    "# Fractional Release\n",
    "ax[1].fill_between(temp, low1, high1, alpha = 0.4, \n",
    "                color = 'grey', \n",
    "                label = '95% Credible Interval')\n",
    "ax[1].plot(temp, Z1, 'c', lw = 2, \n",
    "        label = 'Mean Posterior \\n Predicitive Model')\n",
    "\n",
    "ax[1].plot(temp, data2, lw = 2, color= 'k', \n",
    "        label = 'Data')\n",
    "ax[1].set_ylabel('Cumulative $^{39}$Ar released (%)')\n",
    "ax[1].set_xlabel('Temperautre $^{o}$C)')\n",
    "\n",
    "\n",
    "\n",
    "plt.tight_layout()"
   ]
  },
  {
   "cell_type": "code",
   "execution_count": 406,
   "metadata": {},
   "outputs": [
    {
     "name": "stdout",
     "output_type": "stream",
     "text": [
      "25.181298434112236\n",
      "28.301897067463067\n",
      "0.34765044020753155\n",
      "0.7631892757213866\n"
     ]
    }
   ],
   "source": [
    "print(trace['age2'].mean(axis = 0))\n",
    "print(trace['age1'].mean(axis = 0))\n",
    "print(2*np.std(trace['age1']))\n",
    "print(2*np.std(trace['age2']))"
   ]
  },
  {
   "cell_type": "code",
   "execution_count": 30,
   "metadata": {},
   "outputs": [],
   "source": [
    "# Mean Posterior DataFrame\n",
    "df = pd.DataFrame({\"f_model\": Z1, \n",
    "                  'low_bound':low1, \n",
    "                  'high_bound':high1, \n",
    "                  \"age_model\":Z2, \n",
    "                  \"lb_age\": low2, \n",
    "                  \"hb_age\":high2, \n",
    "                  \"fel\": data2, \n",
    "                  \"age_data\":data, \n",
    "                  \"age_err\": age_err, \n",
    "                  \"temp\": temp})\n",
    "\n",
    "# Trace_DataFrame\n",
    "df1 = pm.trace_to_dataframe(trace)"
   ]
  },
  {
   "cell_type": "code",
   "execution_count": 35,
   "metadata": {},
   "outputs": [],
   "source": [
    "df.to_csv('hb_tcr_posterior.csv')\n",
    "df1.to_csv('hb_tcr_trace.csv')"
   ]
  },
  {
   "cell_type": "code",
   "execution_count": 36,
   "metadata": {},
   "outputs": [
    {
     "data": {
      "text/plain": [
       "<matplotlib.legend.Legend at 0x1c768c5e48>"
      ]
     },
     "execution_count": 36,
     "metadata": {},
     "output_type": "execute_result"
    },
    {
     "data": {
      "image/png": "[encoded data removed]",
      "text/plain": [
       "<Figure size 511.2x270 with 1 Axes>"
      ]
     },
     "metadata": {},
     "output_type": "display_data"
    }
   ],
   "source": [
    "# AGE SPECTRA\n",
    "fig, ax = plt.subplots(1,1, figsize = (7.1, 3.75))\n",
    "\n",
    "ax.fill_between(data2, low2, high2, alpha = 0.4, \n",
    "                color = 'grey', \n",
    "                label = '95% Credible Interval')\n",
    "ax.plot(Z1, Z2, 'c', \n",
    "        lw = 2, \n",
    "        label = 'Mean Posterior \\n Predicitive Model')\n",
    "ax.fill_between(data2, data - age_err, data + age_err, \n",
    "                step ='pre', \n",
    "                facecolor = 'grey', \n",
    "                alpha = 0.5, \n",
    "                edgecolor = 'k', \n",
    "                label = 'Data')\n",
    "\n",
    "ax.set_xlabel('Cumulative $^{39}$Ar released (%)')\n",
    "ax.set_ylabel('Age (Ma)')\n",
    "ax.legend(loc = 'best')"
   ]
  },
  {
   "cell_type": "code",
   "execution_count": null,
   "metadata": {},
   "outputs": [],
   "source": []
  }
 ],
 "metadata": {
  "kernelspec": {
   "display_name": "Python 3",
   "language": "python",
   "name": "python3"
  },
  "language_info": {
   "codemirror_mode": {
    "name": "ipython",
    "version": 3
   },
   "file_extension": ".py",
   "mimetype": "text/x-python",
   "name": "python",
   "nbconvert_exporter": "python",
   "pygments_lexer": "ipython3",
   "version": "3.6.8"
  }
 },
 "nbformat": 4,
 "nbformat_minor": 2
}
