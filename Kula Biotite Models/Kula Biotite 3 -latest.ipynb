{
 "cells": [
  {
   "cell_type": "code",
   "execution_count": null,
   "metadata": {},
   "outputs": [],
   "source": [
    "import pymc3 as pm \n",
    "import numpy as np \n",
    "import scipy as sc\n",
    "import seaborn as sns\n",
    "import matplotlib.pyplot as plt\n",
    "%matplotlib inline\n",
    "import numpy as np\n",
    "import pandas as pd \n",
    "import os \n",
    "\n",
    "font = {'family' : 'normal',\n",
    "        'weight' : 'normal',\n",
    "        'size'   : 13}\n",
    "\n",
    "plt.rc('font', **font)\n",
    "plt.style.use('classic')\n",
    "\n",
    "# Data\n",
    "cwd = os.chdir(\"/Users/danbarfod/Downloads/Kula_Biotite\")"
   ]
  },
  {
   "cell_type": "code",
   "execution_count": null,
   "metadata": {},
   "outputs": [],
   "source": [
    "df6 = pd.read_csv(\"Kula_6_data.csv\", engine = 'python')\n",
    "df6.dropna(axis =0, how = 'all')\n",
    "\n",
    "temp1 = df6['Temp'].values\n",
    "time1 = df6['Time'].values\n",
    "a391 = df6['39Ar'].values\n",
    "a401 = df6['40Ar'].values\n",
    "age1 = df6['Age'].values\n",
    "age1_err = df6['Age_Err'].values"
   ]
  },
  {
   "cell_type": "code",
   "execution_count": null,
   "metadata": {},
   "outputs": [],
   "source": [
    "# Shared variable for modelling \n",
    "from theano import shared, tensor as tt\n",
    "data = age1\n",
    "err = age1_err\n",
    "\n",
    "age_err = shared(err*3)"
   ]
  },
  {
   "cell_type": "code",
   "execution_count": null,
   "metadata": {},
   "outputs": [],
   "source": [
    "def Increment(ea, d0, a, temp, t):\n",
    "    R = 8.314e-3\n",
    "    \n",
    "    D0t = (d0/(a**2))*np.exp(-ea/(R*temp))*t\n",
    "    \n",
    "    q = (6./(np.pi**(3/2)))*np.sqrt((np.pi**2)*D0t)\n",
    "    \n",
    "    aa1 = np.sqrt(np.pi) * R * temp**2\n",
    "    bb1 = d0*np.exp(-ea/(R*temp))*t\n",
    "    z1 = (3*ea *np.sqrt(bb1/a**2))/aa1\n",
    "    \n",
    "\n",
    "    aa2 = np.sqrt(np.pi) * R *temp**2\n",
    "    bb2 = d0*np.exp(-ea/(R*temp))*t\n",
    "    z2 = (3*ea*(np.sqrt(bb2/a**2) - np.sqrt(np.pi)*bb2/a**2))/aa2\n",
    "      \n",
    "    \n",
    "    aa3 = a**2 * R * temp**2\n",
    "    bb3 = d0*np.exp(-ea/(R*temp))*t\n",
    "    z3 = 6 * d0 * ea * t * np.exp((-np.pi**2 * bb3/a**2) - ea/(R*temp))/aa3\n",
    "\n",
    "    \n",
    "    Q = tt.switch(q <= 0.9,\n",
    "                z2,\n",
    "                 z3)\n",
    "    \n",
    "    T = tt.switch(q < 0.1, z1, Q)\n",
    "    \n",
    "    \n",
    "    return T"
   ]
  },
  {
   "cell_type": "code",
   "execution_count": null,
   "metadata": {},
   "outputs": [],
   "source": [
    "def fracrelx(Ea, D0, a, temp, time): \n",
    "    R = 8.314e-3\n",
    "    D0t = (D0/(a**2))*np.exp(-Ea/(R*temp))*time\n",
    "    \n",
    "    q = (6./(np.pi**(3/2)))*np.sqrt((np.pi**2)*D0t)\n",
    "    \n",
    "    q1 = (6./(np.pi**(1.5)))*np.sqrt((np.pi**2)*D0t)\n",
    "    \n",
    "    q2 = (6./(np.pi**(3/2)))*np.sqrt((np.pi**2)*D0t)\\\n",
    "    - (3./(np.pi**2)) *((np.pi**2)* D0t)\n",
    "    \n",
    "    q3 = 1 - (6./(np.pi**2)) *np.exp(-(np.pi**2)*D0t)\n",
    "     \n",
    "    \n",
    "    \n",
    "    Q = tt.switch(q <= 0.9, q2, q3)\n",
    "    T = tt.switch(q < 0.1, q, Q)\n",
    "    \n",
    "    return T"
   ]
  },
  {
   "cell_type": "code",
   "execution_count": null,
   "metadata": {},
   "outputs": [],
   "source": [
    "def frel_data(x): \n",
    "    y = np.cumsum(x) \n",
    "    dd = y/y.max()\n",
    "    return dd"
   ]
  },
  {
   "cell_type": "code",
   "execution_count": null,
   "metadata": {},
   "outputs": [],
   "source": [
    "x = 100 *frel_data(a391)"
   ]
  },
  {
   "cell_type": "markdown",
   "metadata": {},
   "source": [
    "# The Age Spectra"
   ]
  },
  {
   "cell_type": "code",
   "execution_count": null,
   "metadata": {},
   "outputs": [],
   "source": [
    "y = np.insert(x, 0, 0)\n",
    "age_plot = np.insert(data, 0, data[0])\n",
    "age_plot_err = np.insert(err, 0, err[0])\n",
    "\n",
    "\n",
    "fig, ax = plt.subplots(1,2, figsize = (9, 4.5))\n",
    "\n",
    "ax[0].fill_between(y, age_plot - age_plot_err, age_plot + age_plot_err, \n",
    "                  step = 'pre', \n",
    "                  color = 'grey', alpha = 0.7, \n",
    "                  edgecolor = 'k')\n",
    "ax[0].set_xlim(y.min(), y.max())\n",
    "\n",
    "ax[0].set_ylabel('Age (Ma)')\n",
    "ax[0].set_xlabel('Cumulative $^{39}$Ar released (%)')\n",
    "\n",
    "ax[1].plot(temp1,x, lw = 2, \n",
    "          color= 'k')\n",
    "ax[1].set_ylabel('Cumulative $^{39}$Ar released (%)')\n",
    "ax[1].set_xlabel('Temperature ($^{o}C$)')\n",
    "ax[1].set_ylim(0, 101)\n",
    "plt.tight_layout()"
   ]
  },
  {
   "cell_type": "code",
   "execution_count": null,
   "metadata": {},
   "outputs": [],
   "source": [
    "data_f = x/100\n",
    "tempk = temp1 + 273.15\n",
    "t_obs = time1 * 60\n",
    "N = data.shape[0]\n",
    "R = 8.314e-3"
   ]
  },
  {
   "cell_type": "code",
   "execution_count": null,
   "metadata": {},
   "outputs": [],
   "source": [
    "Q = pm.Model()\n",
    "\n",
    "with Q: \n",
    "    \n",
    "    phi = pm.Dirichlet('phi', \n",
    "                      a = np.array([0.25,0.75]), \n",
    "                      shape = 2, \n",
    "                       testval = (0.25, 0.75))\n",
    "    \n",
    "    w1 = phi[0]\n",
    "    w2 = phi[1]\n",
    "    \n",
    "    w1_potential = pm.Potential('p1_con', \n",
    "                               tt.switch(w1 < 0.2, \n",
    "                                        -np.inf, 0) + \n",
    "                               tt.switch(w1 > 0.3, \n",
    "                                        -np.inf, 0))\n",
    "    \n",
    "    ea1 = pm.Normal('ea1', mu = 196,\n",
    "                    sd = 2, \n",
    "                   testval = 196)\n",
    "    ea2 = pm.Normal('ea2', mu = 196,\n",
    "                    sd = 2, \n",
    "                   testval = 196)\n",
    "    \n",
    "    d01 = pm.TruncatedNormal('d01', \n",
    "                            mu = 0.002, sd = 0.2, \n",
    "                            lower = 0.0)\n",
    "    \n",
    "    d02 = pm.TruncatedNormal('d02', \n",
    "                            mu = 0.002, sd = 0.2, \n",
    "                            lower = 0.0)\n",
    "    \n",
    "    a1 = pm.Uniform('a1', lower = 0.0177/2, \n",
    "                   upper= 0.025/2)\n",
    "    \n",
    "    a2 = pm.Uniform('a2', lower = 0.0177/2, \n",
    "                   upper= 0.025/2)"
   ]
  },
  {
   "cell_type": "code",
   "execution_count": null,
   "metadata": {},
   "outputs": [],
   "source": [
    "with Q: \n",
    "    \n",
    "    age1 = pm.Uniform('age1', lower = 0.0, upper = 4600, \n",
    "                     testval = 200)\n",
    "    \n",
    "    age2 = pm.Uniform('age2', lower = 0.0, upper = 4600, \n",
    "                     testval = 100)\n",
    "    \n",
    "    age_cons = pm.Potential('age_con', \n",
    "                           tt.switch(age1 - age2 < 0, \n",
    "                                    -np.inf, 0))"
   ]
  },
  {
   "cell_type": "code",
   "execution_count": null,
   "metadata": {},
   "outputs": [],
   "source": [
    "with Q: \n",
    "\n",
    "    X = Increment(ea1, d01, a1, tempk, t_obs)\n",
    "    Y = Increment(ea2, d02, a2, tempk, t_obs)\n",
    "\n",
    "    \n",
    "    mu2 = ((w1*X)/(w1*X + w2*Y))*age1 +\\\n",
    "    ((w2*Y)/(w1*X + w2*Y))*age2   \n",
    "\n",
    "    model2 = pm.Deterministic('model2', mu2)"
   ]
  },
  {
   "cell_type": "code",
   "execution_count": null,
   "metadata": {},
   "outputs": [],
   "source": [
    "with Q: \n",
    "    # Cumulative Release Model \n",
    "\n",
    "    A = fracrelx(ea1, d01, a1, tempk, t_obs)\n",
    "    B = fracrelx(ea2, d02, a2, tempk, t_obs)\n",
    "    \n",
    "    # Individual Cumulative Release\n",
    "    AA = pm.Deterministic('AA', A)\n",
    "    BB = pm.Deterministic('BB', B)\n",
    "    \n",
    "    mu1 = w1*A + w2*B\n",
    "\n",
    "    # MONOTONIC Constraint\n",
    "######################################################################\n",
    "    for i in range(len(tempk) -1): \n",
    "        F_con1 = pm.Potential(f'F_con1{i}', \n",
    "                             tt.switch(A[i + 1] - A[i] <0, \n",
    "                                      -np.inf, 0) + \n",
    "                             tt.switch(B[i +1] - B[i] < 0, \n",
    "                                      -np.inf, 0))\n",
    "\n",
    "    for i in range(len(tempk) -1): \n",
    "        F_con2 = pm.Potential(f'F_con2{i}', \n",
    "                             tt.switch(mu1[i + 1] - mu1[i] <0, \n",
    "                                      -np.inf, 0))\n",
    "        \n",
    "    # Constraint to the fractional release model \n",
    "    frac_rel_cons = pm.Potential('frac_rel_cons', \n",
    "                                tt.switch(mu1 >1, -np.inf, 0))\n",
    "######################################################################    \n",
    "\n",
    "    \n",
    "    # Fractional Release Equation \n",
    "    f_err1 = pm.HalfNormal('f_err1', \n",
    "                           sd = 0.1, \n",
    "                          shape = N)"
   ]
  },
  {
   "cell_type": "code",
   "execution_count": null,
   "metadata": {},
   "outputs": [],
   "source": [
    "# Models for plotting \n",
    "with Q: \n",
    "    f_model = pm.Deterministic('f_model', \n",
    "                               mu1)\n",
    "    age_model = pm.Deterministic('Age_Model', \n",
    "                                mu2)"
   ]
  },
  {
   "cell_type": "code",
   "execution_count": null,
   "metadata": {},
   "outputs": [],
   "source": [
    "def logp(mod, data, err): \n",
    "    logp = -0.5*tt.sum((((data - mod)/err)**2))\n",
    "    return logp"
   ]
  },
  {
   "cell_type": "code",
   "execution_count": null,
   "metadata": {},
   "outputs": [],
   "source": [
    "with Q: \n",
    "    age_model_error = pm.HalfNormal('age_model_error', \n",
    "                                   sd = 5, \n",
    "                                   shape = N)"
   ]
  },
  {
   "cell_type": "code",
   "execution_count": null,
   "metadata": {},
   "outputs": [],
   "source": [
    "with Q: \n",
    "    # Cumulative Release Likelihood \n",
    "    L1 = pm.Normal('L1', mu = mu1, \n",
    "                   sd = f_err1, \n",
    "                   observed = data_f)\n",
    "    \n",
    "    L2 = pm.DensityDist('L2', logp, \n",
    "                       observed = {\"mod\":mu2, \n",
    "                                  \"data\":data, \n",
    "                                  \"err\":age_model_error})"
   ]
  },
  {
   "cell_type": "code",
   "execution_count": null,
   "metadata": {},
   "outputs": [],
   "source": [
    "SAMPLES = 120000\n",
    "BURN = 100000\n",
    "with Q: \n",
    "    \n",
    "    step1 = pm.NUTS([phi], target_accept = 0.93)\n",
    "    \n",
    "    step2 = pm.Metropolis([ea1, \n",
    "                           ea2, \n",
    "                           age1, age2,\n",
    "                           a1, a2,\n",
    "                           f_err1, \n",
    "                          d01, d02])\n",
    "\n",
    "    \n",
    "    trace = pm.sample(SAMPLES, tune = BURN, \n",
    "                     step = [step1, step2])"
   ]
  },
  {
   "cell_type": "code",
   "execution_count": null,
   "metadata": {},
   "outputs": [],
   "source": [
    "x1 = trace['f_model'][-5000:].mean(axis = 0)\n",
    "plt.figure(figsize = (5,5))\n",
    "plt.plot(temp1, x1)\n",
    "plt.plot(temp1, data_f)"
   ]
  },
  {
   "cell_type": "code",
   "execution_count": null,
   "metadata": {},
   "outputs": [],
   "source": [
    "x2 = trace['Age_Model'][-10000:].mean(axis = 0)\n",
    "\n",
    "x1_plot = np.insert(x1, 0, 0)\n",
    "x2_plot = np.insert(x2, 0, x2[0])\n",
    "plt.figure(figsize = (5,5))\n",
    "plt.plot(100*x1_plot, x2_plot)\n",
    "plt.plot(y, age_plot)"
   ]
  },
  {
   "cell_type": "code",
   "execution_count": null,
   "metadata": {},
   "outputs": [],
   "source": [
    "# 95% Credible model intervals \n",
    "low_age, high_age = np.percentile(trace['Age_Model'][-SAMPLES::2],\n",
    "                                  [2.5, 97.5], \n",
    "                                  axis=0)\n",
    "low_f, high_f = np.percentile(trace['f_model'][-SAMPLES::2], \n",
    "                             [2.5, 97.5], \n",
    "                             axis = 0)"
   ]
  },
  {
   "cell_type": "code",
   "execution_count": null,
   "metadata": {},
   "outputs": [],
   "source": [
    "low_age_plot = np.insert(low_age, 0, low_age[0])\n",
    "high_age_plot = np.insert(high_age, 0, high_age[0])"
   ]
  },
  {
   "cell_type": "code",
   "execution_count": null,
   "metadata": {},
   "outputs": [],
   "source": [
    "y = np.insert(x, 0, 0)\n",
    "age_plot = np.insert(data, 0, data[0])\n",
    "age_plot_err = np.insert(err, 0, err[0])\n",
    "\n",
    "\n",
    "fig, ax = plt.subplots(1,2, figsize = (9, 4.5))\n",
    "# Age\n",
    "ax[0].fill_between(y, age_plot - age_plot_err, age_plot + age_plot_err, \n",
    "                  step = 'pre', \n",
    "                  color = 'grey', alpha = 0.7, \n",
    "                  edgecolor = 'k')\n",
    "ax[0].set_xlim(y.min(), y.max())\n",
    "\n",
    "\n",
    "ax[0].plot(100*x1_plot, x2_plot, 'r-')\n",
    "ax[0].fill_between(100*x1_plot, low_age_plot, \n",
    "                   high_age_plot,\n",
    "                  step = 'pre', \n",
    "                  color = 'r', alpha = 0.7, \n",
    "                  edgecolor = 'k')\n",
    "\n",
    "ax[0].set_ylabel('Age (Ma)')\n",
    "ax[0].set_xlabel('Cumulative $^{39}$Ar released (%)')\n",
    "\n",
    "ax[0].set_ylim(65, 125)\n",
    "\n",
    "\n",
    "# Cumulative Release\n",
    "\n",
    "ax[1].plot(temp1,x/100, lw = 2, \n",
    "          color= 'k')\n",
    "ax[1].plot(temp1,x1, lw = 2, \n",
    "          color= 'r')\n",
    "ax[1].fill_between(temp1, low_f, \n",
    "                   high_f,\n",
    "                  color = 'r', alpha = 0.7, \n",
    "                  edgecolor = 'k')\n",
    "ax[1].set_ylabel('Cumulative $^{39}$Ar released (%)')\n",
    "ax[1].set_xlabel('Temperature ($^{o}C$)')\n",
    "ax[1].set_ylim(0, 1.01)\n",
    "plt.tight_layout()"
   ]
  },
  {
   "cell_type": "code",
   "execution_count": null,
   "metadata": {},
   "outputs": [],
   "source": [
    "print(trace['age1'][-5000::2].mean(axis =0))\n",
    "print(trace['age2'][-5000::2].mean(axis =0))\n",
    "\n",
    "\n",
    "print(2*np.std(trace['age1'][-5000::2]))\n",
    "print(2*np.std(trace['age2'][-5000::2]))"
   ]
  },
  {
   "cell_type": "markdown",
   "metadata": {},
   "source": [
    "#### pm.summary(trace)"
   ]
  },
  {
   "cell_type": "markdown",
   "metadata": {},
   "source": [
    "# Posterior DataFrame"
   ]
  },
  {
   "cell_type": "code",
   "execution_count": null,
   "metadata": {},
   "outputs": [],
   "source": [
    "df = pd.DataFrame({\"age_model\": x2,\n",
    "                   \"age_model_low\":low_age, \n",
    "                   \"age_model_high\":high_age, \n",
    "                   \"frel_model\": x1, \n",
    "                   \"frel_model_low\": low_f, \n",
    "                   \"frel_model_high\":high_f, \n",
    "                   \"age_data\": data, \n",
    "                   \"age_err\": err,\n",
    "                   \"frel_data\":x/100, \n",
    "                   \"temp\":temp1\n",
    "                  })"
   ]
  },
  {
   "cell_type": "code",
   "execution_count": null,
   "metadata": {},
   "outputs": [],
   "source": [
    "df.to_csv(\"Kula_biotite_3_posterior.csv\")"
   ]
  },
  {
   "cell_type": "code",
   "execution_count": null,
   "metadata": {},
   "outputs": [],
   "source": [
    "df2 = pm.trace_to_dataframe(trace[-SAMPLES::5])\n",
    "df2.to_csv(\"Kula_biotite_3_trace.csv\")"
   ]
  },
  {
   "cell_type": "code",
   "execution_count": null,
   "metadata": {},
   "outputs": [],
   "source": []
  }
 ],
 "metadata": {
  "kernelspec": {
   "display_name": "Python 3",
   "language": "python",
   "name": "python3"
  },
  "language_info": {
   "codemirror_mode": {
    "name": "ipython",
    "version": 3
   },
   "file_extension": ".py",
   "mimetype": "text/x-python",
   "name": "python",
   "nbconvert_exporter": "python",
   "pygments_lexer": "ipython3",
   "version": "3.7.3"
  }
 },
 "nbformat": 4,
 "nbformat_minor": 2
}
